{
 "cells": [
  {
   "cell_type": "code",
   "execution_count": null,
   "id": "cc3ae420",
   "metadata": {},
   "outputs": [],
   "source": [
    "cat test.png | display"
   ]
  },
  {
   "cell_type": "code",
   "execution_count": null,
   "id": "b46352c5",
   "metadata": {},
   "outputs": [],
   "source": [
    "echo \"<b>Dog</b>, not a cat.\" | displayHTML\n",
    "echo \"alert('It is known khaleesi\\!');\" | displayJS"
   ]
  },
  {
   "cell_type": "code",
   "execution_count": null,
   "id": "3e038156",
   "metadata": {},
   "outputs": [],
   "source": [
    "display_id=\"id_${RANDOM}\"\n",
    "((ii=0))\n",
    "while ((ii < 10)) ; do\n",
    "    echo \"<div>${ii}</div>\" | displayHTML $display_id\n",
    "    ((ii = ii+1))\n",
    "    sleep 1\n",
    "done"
   ]
  },
  {
   "cell_type": "code",
   "execution_count": null,
   "id": "f3d584cb",
   "metadata": {},
   "outputs": [],
   "source": []
  }
 ],
 "metadata": {
  "kernelspec": {
   "display_name": "Bash",
   "language": "bash",
   "name": "bash"
  },
  "language_info": {
   "codemirror_mode": "shell",
   "file_extension": ".sh",
   "mimetype": "text/x-sh",
   "name": "bash"
  }
 },
 "nbformat": 4,
 "nbformat_minor": 5
}
